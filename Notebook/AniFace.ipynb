{
 "cells": [
  {
   "cell_type": "markdown",
   "metadata": {},
   "source": [
    "# アニメ顔検出"
   ]
  },
  {
   "cell_type": "code",
   "execution_count": 2,
   "metadata": {},
   "outputs": [],
   "source": [
    "import os\n",
    "import cv2\n",
    "# import matplotlib.pyplot as plt\n",
    "# %matplotlib inline\n",
    "from IPython.display import Image, display_png\n",
    "import datetime\n",
    "import sys; sys.path.append('/home/kagamiwomiru/Tools/GetImages/ToolKit')\n",
    "import ConvertTo32 as CT\n",
    "import glob\n",
    "# from tqdm import tqdm #コマンドライン用\n",
    "from tqdm import tqdm_notebook as tqdm #jupyter notebook用"
   ]
  },
  {
   "cell_type": "code",
   "execution_count": 3,
   "metadata": {},
   "outputs": [],
   "source": [
    "# 特徴量ファイルをもとに分類器を作成\n",
    "# https://github.com/nagadomi/lbpcascade_animeface \n",
    "classifier = cv2.CascadeClassifier('cascades/lbpcascade_animeface.xml')"
   ]
  },
  {
   "cell_type": "code",
   "execution_count": 4,
   "metadata": {},
   "outputs": [
    {
     "name": "stdout",
     "output_type": "stream",
     "text": [
      "生成するキャラ名を入力:\n",
      "KizunaAI\n"
     ]
    }
   ],
   "source": [
    "#　設定\n",
    "print(\"生成するキャラ名を入力:\")\n",
    "output_dir=input()"
   ]
  },
  {
   "cell_type": "code",
   "execution_count": 5,
   "metadata": {},
   "outputs": [],
   "source": [
    "# ディレクトリを作成\n",
    "output_root_dir = 'faces/'\n",
    "if not os.path.exists(output_root_dir+output_dir):\n",
    "    os.makedirs(output_root_dir+output_dir)\n"
   ]
  },
  {
   "cell_type": "code",
   "execution_count": 6,
   "metadata": {},
   "outputs": [
    {
     "data": {
      "application/vnd.jupyter.widget-view+json": {
       "model_id": "783b3c82af33436bb744a10202960585",
       "version_major": 2,
       "version_minor": 0
      },
      "text/plain": [
       "HBox(children=(IntProgress(value=0, max=4), HTML(value='')))"
      ]
     },
     "metadata": {},
     "output_type": "display_data"
    },
    {
     "data": {
      "application/vnd.jupyter.widget-view+json": {
       "model_id": "e5a44a12ad184813aeae424845713df5",
       "version_major": 2,
       "version_minor": 0
      },
      "text/plain": [
       "HBox(children=(IntProgress(value=0, max=99), HTML(value='')))"
      ]
     },
     "metadata": {},
     "output_type": "display_data"
    },
    {
     "name": "stdout",
     "output_type": "stream",
     "text": [
      "処理中:data/キズナアイ/0_57.jpg"
     ]
    },
    {
     "data": {
      "application/vnd.jupyter.widget-view+json": {
       "model_id": "0f858f7f8a924def8bf287449641df3b",
       "version_major": 2,
       "version_minor": 0
      },
      "text/plain": [
       "HBox(children=(IntProgress(value=0, max=98), HTML(value='')))"
      ]
     },
     "metadata": {},
     "output_type": "display_data"
    },
    {
     "name": "stdout",
     "output_type": "stream",
     "text": [
      "処理中:data/Kizuna+Ai/0_57.jpgg"
     ]
    },
    {
     "data": {
      "application/vnd.jupyter.widget-view+json": {
       "model_id": "a8569c4ed8244a62a97ea23f981c95f1",
       "version_major": 2,
       "version_minor": 0
      },
      "text/plain": [
       "HBox(children=(IntProgress(value=0), HTML(value='')))"
      ]
     },
     "metadata": {},
     "output_type": "display_data"
    },
    {
     "name": "stdout",
     "output_type": "stream",
     "text": [
      "処理中:data/ユーチューバー+キズナアイ/0_57.jpgg"
     ]
    },
    {
     "data": {
      "application/vnd.jupyter.widget-view+json": {
       "model_id": "7433e76f91b94fa2bbac3114421df908",
       "version_major": 2,
       "version_minor": 0
      },
      "text/plain": [
       "HBox(children=(IntProgress(value=1, bar_style='info', max=1), HTML(value='')))"
      ]
     },
     "metadata": {},
     "output_type": "display_data"
    },
    {
     "name": "stdout",
     "output_type": "stream",
     "text": [
      "\n"
     ]
    }
   ],
   "source": [
    "root_dir=(\"data/\")\n",
    "for sub_dir in tqdm(glob.glob(root_dir+\"*\")):\n",
    "    for image in tqdm(glob.glob(sub_dir+\"/*\")):\n",
    "        sys.stdout.write(\"\\r処理中:\" + image)\n",
    "        data=cv2.imread(image)\n",
    "        # グレースケールで処理を高速化\n",
    "        try:\n",
    "            gray_image = cv2.cvtColor(data,cv2.COLOR_BGR2GRAY)\n",
    "        except:\n",
    "            os.remove(image) #問題の画像を削除\n",
    "        else:\n",
    "            faces = classifier.detectMultiScale(gray_image)\n",
    "            for i, (x,y,w,h) in enumerate(faces):\n",
    "                # 顔を切り抜く\n",
    "                face_image = data[y:y+h, x:x+w]\n",
    "                now = datetime.datetime.now()\n",
    "                output_path = os.path.join(output_root_dir+output_dir,'{0:%Y%m%d_%H%M%S}.jpg'.format(now))\n",
    "                cv2.imwrite(output_path,face_image)"
   ]
  },
  {
   "cell_type": "markdown",
   "metadata": {},
   "source": [
    "## 画像の加工"
   ]
  },
  {
   "cell_type": "code",
   "execution_count": 7,
   "metadata": {},
   "outputs": [],
   "source": [
    "CT.convertTo32(output_root_dir+output_dir)"
   ]
  },
  {
   "cell_type": "markdown",
   "metadata": {},
   "source": [
    "# 初期化"
   ]
  },
  {
   "cell_type": "code",
   "execution_count": 49,
   "metadata": {},
   "outputs": [],
   "source": [
    "%%bash\n",
    "rm -rf ./faces"
   ]
  },
  {
   "cell_type": "code",
   "execution_count": null,
   "metadata": {},
   "outputs": [],
   "source": []
  },
  {
   "cell_type": "code",
   "execution_count": null,
   "metadata": {},
   "outputs": [],
   "source": []
  }
 ],
 "metadata": {
  "kernelspec": {
   "display_name": "Environment (conda_tools)",
   "language": "python",
   "name": "conda_tools"
  },
  "language_info": {
   "codemirror_mode": {
    "name": "ipython",
    "version": 3
   },
   "file_extension": ".py",
   "mimetype": "text/x-python",
   "name": "python",
   "nbconvert_exporter": "python",
   "pygments_lexer": "ipython3",
   "version": "3.6.6"
  }
 },
 "nbformat": 4,
 "nbformat_minor": 2
}
