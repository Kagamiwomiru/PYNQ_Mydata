{
 "cells": [
  {
   "cell_type": "markdown",
   "metadata": {},
   "source": [
    "# convertTo32\n",
    "96x96の顔画像を32x32に一括変換します。"
   ]
  },
  {
   "cell_type": "code",
   "execution_count": 2,
   "metadata": {},
   "outputs": [],
   "source": [
    "from PIL import Image\n",
    "import glob\n",
    "import os"
   ]
  },
  {
   "cell_type": "code",
   "execution_count": 3,
   "metadata": {},
   "outputs": [],
   "source": [
    "train_dir='/home/kagamiwomiru/MakeCifar/train_face/'\n",
    "eval_dir='/home/kagamiwomiru/MakeCifar/eval_face/'\n"
   ]
  },
  {
   "cell_type": "code",
   "execution_count": 4,
   "metadata": {},
   "outputs": [],
   "source": [
    "for sub_dir in glob.glob(train_dir+str('*')): #/home/kagamiwomiru/MakeCifar/train_face/Kagami,Uchiyama/\n",
    "    for data in glob.glob(sub_dir+str('/*.jpg')): #Kagami/nuga00.jpg,....\n",
    "        img=Image.open(data)\n",
    "        img_resize=img.resize((32,32))\n",
    "        img_resize.save(data)"
   ]
  },
  {
   "cell_type": "code",
   "execution_count": 5,
   "metadata": {},
   "outputs": [],
   "source": [
    "for sub_dir in glob.glob(eval_dir+str('*')): #/home/kagamiwomiru/MakeCifar/train_face/Kagami,Uchiyama/\n",
    "    for data in glob.glob(sub_dir+str('/*.jpg')): #Kagami/nuga00.jpg,....\n",
    "        img=Image.open(data)\n",
    "        img_resize=img.resize((32,32))\n",
    "        img_resize.save(data)"
   ]
  },
  {
   "cell_type": "code",
   "execution_count": null,
   "metadata": {},
   "outputs": [],
   "source": []
  }
 ],
 "metadata": {
  "kernelspec": {
   "display_name": "Environment (conda_binarynet)",
   "language": "python",
   "name": "conda_binarynet"
  },
  "language_info": {
   "codemirror_mode": {
    "name": "ipython",
    "version": 2
   },
   "file_extension": ".py",
   "mimetype": "text/x-python",
   "name": "python",
   "nbconvert_exporter": "python",
   "pygments_lexer": "ipython2",
   "version": "2.7.15"
  }
 },
 "nbformat": 4,
 "nbformat_minor": 2
}
